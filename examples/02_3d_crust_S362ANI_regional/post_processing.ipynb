{
 "cells": [
  {
   "cell_type": "markdown",
   "metadata": {},
   "source": [
    "# Import libraries"
   ]
  },
  {
   "cell_type": "code",
   "execution_count": null,
   "metadata": {},
   "outputs": [],
   "source": [
    "import os\n",
    "import yaml\n",
    "import numpy as np\n",
    "\n",
    "import matplotlib.pyplot as plt\n",
    "from mpl_toolkits.basemap import Basemap\n",
    "import matplotlib\n",
    "matplotlib.rcParams.update({'font.size': 8})\n",
    "\n",
    "from obspy.core import Stream, Trace, UTCDateTime, Stats\n",
    "from obspy.io.sac import SACTrace"
   ]
  },
  {
   "cell_type": "markdown",
   "metadata": {},
   "source": [
    "# Event"
   ]
  },
  {
   "cell_type": "code",
   "execution_count": null,
   "metadata": {},
   "outputs": [],
   "source": [
    "# read event location\n",
    "with open('./simu_with_3d_crust/input/inparam.source.yaml', 'r') as file:\n",
    "    source_yaml = yaml.load(file, Loader=yaml.FullLoader)\n",
    "loc_leaf = source_yaml['list_of_sources'][0]['VIRGINIA_201108231751A']['location']\n",
    "event_latlon = loc_leaf['latitude_longitude']\n",
    "event_depth = loc_leaf['depth']"
   ]
  },
  {
   "cell_type": "markdown",
   "metadata": {},
   "source": [
    "# USArray"
   ]
  },
  {
   "cell_type": "markdown",
   "metadata": {},
   "source": [
    "### Station info"
   ]
  },
  {
   "cell_type": "code",
   "execution_count": null,
   "metadata": {},
   "outputs": [],
   "source": [
    "# read station locations\n",
    "info_US_TA = np.loadtxt('./simu_with_3d_crust/input/US_TA.txt', dtype=str, skiprows=3)\n",
    "\n",
    "# dict: station key -> [lat, lon]\n",
    "nstation = len(info_US_TA)\n",
    "stlatlon_dict = {}\n",
    "for ist in np.arange(nstation):\n",
    "    key = info_US_TA[ist, 1] + '.' + info_US_TA[ist, 0]\n",
    "    stlatlon_dict[key] = np.array([float(info_US_TA[ist, 2]), float(info_US_TA[ist, 3])])"
   ]
  },
  {
   "cell_type": "markdown",
   "metadata": {},
   "source": [
    "### Seismograms"
   ]
  },
  {
   "cell_type": "code",
   "execution_count": null,
   "metadata": {},
   "outputs": [],
   "source": [
    "def read_us_ta(us_ta_dir, channel = 'U3'):\n",
    "    # read rank-station info\n",
    "    rank_station_info = np.loadtxt(us_ta_dir + '/rank_station.info', dtype=str, skiprows=1)\n",
    "\n",
    "    # dict: mpi-rank -> [station keys]\n",
    "    rank_station_dict = {}\n",
    "\n",
    "    # (name, lat, lon) of stations re-ordered by data\n",
    "    stlatlon_in_data_order = []\n",
    "    stname_in_data_order = []\n",
    "\n",
    "    for item in rank_station_info:\n",
    "        rank = item[0]\n",
    "        stkey = item[1]\n",
    "        # initialize with an empty array if rank does not exists in rank_station_dict\n",
    "        if rank not in rank_station_dict.keys():\n",
    "            rank_station_dict[rank] = []\n",
    "        # append the station\n",
    "        rank_station_dict[rank].append(stkey)\n",
    "        stlatlon_in_data_order.append(stlatlon_dict[stkey])\n",
    "        stname_in_data_order.append(stkey)\n",
    "    stlatlon_in_data_order = np.array(stlatlon_in_data_order)\n",
    "\n",
    "    # read time\n",
    "    time = np.loadtxt(us_ta_dir + '/data_time.ascii')\n",
    "    ntime = len(time)\n",
    "\n",
    "    # allocate data\n",
    "    data = np.ndarray((ntime, nstation))\n",
    "\n",
    "    # loop over mpi-ranks to read data\n",
    "    pos = 0\n",
    "    for rank in rank_station_dict.keys():\n",
    "        data_on_rank = np.loadtxt('%s/dir_rank%s/%s.ascii' % (us_ta_dir, rank, channel))\n",
    "        data[:, pos:pos + len(rank_station_dict[rank])] = data_on_rank\n",
    "        pos += len(rank_station_dict[rank])\n",
    "    \n",
    "    return time, data, stlatlon_in_data_order, stname_in_data_order\n",
    "\n",
    "\n",
    "time_1d, data_1d, stlatlon_in_data_order_1d, stname_in_data_order_1d = \\\n",
    "read_us_ta('./simu_with_1d_crust/output/stations/USArray_transportable')\n",
    "time_3d, data_3d, stlatlon_in_data_order_3d, stname_in_data_order_3d = \\\n",
    "read_us_ta('./simu_with_3d_crust/output/stations/USArray_transportable')"
   ]
  },
  {
   "cell_type": "code",
   "execution_count": null,
   "metadata": {
    "scrolled": false
   },
   "outputs": [],
   "source": [
    "n_seis = 100\n",
    "np.random.seed(0)\n",
    "indexes = np.random.choice(data_1d.shape[1], n_seis)\n",
    "\n",
    "# plot seismograms\n",
    "plt.figure(dpi=200, figsize=(10, n_seis / 2))\n",
    "for i, ind in enumerate(indexes):\n",
    "    end = None\n",
    "    norm = np.max(np.abs(data_1d[:end, ind]))\n",
    "    plt.plot(time_1d[:end], data_1d[:end, ind] / norm + i * 2, c='k', label='1D crust')\n",
    "    plt.plot(time_3d[:end], data_3d[:end, ind] / norm + i * 2, c='r', label='3D crust')\n",
    "    plt.text(-200, i * 2, stname_in_data_order_1d[ind], ha='left', va='bottom')\n",
    "plt.ylim(-2, n_seis * 2)\n",
    "plt.yticks([])\n",
    "plt.show()"
   ]
  },
  {
   "cell_type": "markdown",
   "metadata": {},
   "source": [
    "### Animations on array"
   ]
  },
  {
   "cell_type": "code",
   "execution_count": null,
   "metadata": {},
   "outputs": [],
   "source": [
    "#############################\n",
    "###### plot a snapshot ######\n",
    "#############################\n",
    "\n",
    "# specify a time step (0~384)\n",
    "tstep = 100\n",
    "channel = 'U3'\n",
    "\n",
    "# plot the snapshot\n",
    "plt.figure(dpi=150)\n",
    "plt.gca().axis('off')\n",
    "plt.scatter(stlatlon_in_data_order_3d[:, 1], stlatlon_in_data_order_3d[:, 0], s=1, \n",
    "            c=data_3d[tstep, :], vmin=-1e-6, vmax=1e-6, cmap='coolwarm')\n",
    "plt.text(0, 0, 'Time = %.1f s' % (time_3d[tstep]), transform = plt.gca().transAxes)\n",
    "plt.colorbar(orientation='vertical', shrink=.5, label=channel)\n",
    "plt.gca().set_aspect(1.3)\n",
    "plt.show()"
   ]
  },
  {
   "cell_type": "code",
   "execution_count": null,
   "metadata": {},
   "outputs": [],
   "source": [
    "############################\n",
    "###### make animation ######\n",
    "############################\n",
    "\n",
    "def animate(us_ta_dir, time, data, stlatlon_in_data_order, norm=1e-6):\n",
    "    # create dir\n",
    "    os.makedirs(us_ta_dir + '/animation', exist_ok=True)\n",
    "\n",
    "    # create all snapshots\n",
    "    print('Making snapshots...')\n",
    "    for tstep in np.arange(len(time)):\n",
    "        print('%d / %d' % (tstep + 1, len(time)), end='\\r')\n",
    "        plt.figure(dpi=150)\n",
    "        plt.gca().axis('off')\n",
    "        plt.scatter(stlatlon_in_data_order[:, 1], stlatlon_in_data_order[:, 0], s=1, \n",
    "                    c=data[tstep, :], vmin=-norm, vmax=norm, cmap='coolwarm')\n",
    "        plt.text(0, 1, 'Time = %.1f s' % (time[tstep]), transform = plt.gca().transAxes)\n",
    "        plt.colorbar(orientation='vertical', shrink=.5, label=channel)\n",
    "        plt.gca().set_aspect(1.3)\n",
    "        plt.savefig(us_ta_dir + '/animation/%s.%04d.png' % (channel, tstep))\n",
    "        plt.close()\n",
    "\n",
    "    # use ffmepg to combine snapshots to animation\n",
    "    print('Creating vedio using ffmpeg...')\n",
    "    os.system(\"ffmpeg -y -i %s/animation/%s.%%04d.png %s/animation/%s.mp4\" % \n",
    "              (us_ta_dir, channel, us_ta_dir, channel))\n",
    "\n",
    "    # remove snapshots\n",
    "    os.system('rm ' + us_ta_dir + '/animation/%s.*.png' % (channel,))\n",
    "    print('Done.')\n",
    "    \n",
    "animate('./simu_with_1d_crust/output/stations/USArray_transportable', time_1d, data_1d, stlatlon_in_data_order_1d)\n",
    "animate('./simu_with_3d_crust/output/stations/USArray_transportable', time_3d, data_3d, stlatlon_in_data_order_3d)"
   ]
  },
  {
   "cell_type": "code",
   "execution_count": null,
   "metadata": {
    "scrolled": false
   },
   "outputs": [],
   "source": [
    "# play animation\n",
    "from IPython.display import Video\n",
    "Video(\"%s/animation/%s.mp4\" % ('./simu_with_1d_crust/output/stations/USArray_transportable', channel))"
   ]
  },
  {
   "cell_type": "code",
   "execution_count": null,
   "metadata": {},
   "outputs": [],
   "source": [
    "Video(\"%s/animation/%s.mp4\" % ('./simu_with_3d_crust/output/stations/USArray_transportable', channel))"
   ]
  },
  {
   "cell_type": "code",
   "execution_count": null,
   "metadata": {},
   "outputs": [],
   "source": []
  }
 ],
 "metadata": {
  "kernelspec": {
   "display_name": "Python 3",
   "language": "python",
   "name": "python3"
  },
  "language_info": {
   "codemirror_mode": {
    "name": "ipython",
    "version": 3
   },
   "file_extension": ".py",
   "mimetype": "text/x-python",
   "name": "python",
   "nbconvert_exporter": "python",
   "pygments_lexer": "ipython3",
   "version": "3.8.8"
  }
 },
 "nbformat": 4,
 "nbformat_minor": 2
}
