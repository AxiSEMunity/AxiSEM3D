{
 "cells": [
  {
   "cell_type": "markdown",
   "metadata": {},
   "source": [
    "# Crust 1.0\n",
    "\n",
    "In this notebook, we will implement [Crust 1.0](https://igppweb.ucsd.edu/~gabi/crust1.html) as four `AxiSEM3D` models:\n",
    "\n",
    "1. A volumetric model for P-velocity, S-velocity and density (`StructuredGridV3D`)\n",
    "2. A geometric model for surface undulation (`StructuredGridG3D`)\n",
    "3. A geometric model for moho undulation (`StructuredGridG3D`)\n",
    "4. An ocean-load model for the ocean (`StructuredGridO3D`)\n"
   ]
  },
  {
   "cell_type": "code",
   "execution_count": null,
   "metadata": {},
   "outputs": [],
   "source": [
    "import numpy as np\n",
    "from scipy.interpolate import interp1d\n",
    "from skimage.filters import gaussian\n",
    "import matplotlib.pyplot as plt\n",
    "from netCDF4 import Dataset"
   ]
  },
  {
   "cell_type": "markdown",
   "metadata": {},
   "source": [
    "# 1. User options\n",
    "\n",
    "Please specify the following options: "
   ]
  },
  {
   "cell_type": "code",
   "execution_count": null,
   "metadata": {},
   "outputs": [],
   "source": [
    "# whether to consider the ice layer in Crust 1.0\n",
    "INCLUDE_ICE = False\n",
    "\n",
    "# whether to consider the three sediment layers in Crust 1.0\n",
    "INCLUDE_SEDIMENT = False\n",
    "\n",
    "# radius of surface in the mesh\n",
    "RADIUS_SURFACE = 6371e3\n",
    "\n",
    "# radius of moho in the mesh\n",
    "RADIUS_MOHO = 6346.6e3\n",
    "\n",
    "# how many element layers between surface and moho in the mesh\n",
    "# you can find this number by dragging the mesh file into Paraview\n",
    "N_ELEM_LAYERS = 2"
   ]
  },
  {
   "cell_type": "markdown",
   "metadata": {},
   "source": [
    "## The volumetric model"
   ]
  },
  {
   "cell_type": "code",
   "execution_count": null,
   "metadata": {},
   "outputs": [],
   "source": [
    "nlayer = 9\n",
    "nlat = 180\n",
    "nlon = 360\n",
    "nrow = nlat * nlon\n",
    "\n",
    "# read raw data\n",
    "bnd = np.loadtxt('crust1.0_raw_data/crust1.bnds')\n",
    "v_p = np.loadtxt('crust1.0_raw_data/crust1.vp')\n",
    "v_s = np.loadtxt('crust1.0_raw_data/crust1.vs')\n",
    "rho = np.loadtxt('crust1.0_raw_data/crust1.rho')\n",
    "\n",
    "# interpolate latitude from 0 to 180\n",
    "mRl = np.zeros((nlat + 1, nlon, nlayer))\n",
    "mVp = np.zeros((nlat + 1, nlon, nlayer))\n",
    "mVs = np.zeros((nlat + 1, nlon, nlayer))\n",
    "mRh = np.zeros((nlat + 1, nlon, nlayer))\n",
    "for col in range(nlayer):\n",
    "    # north pole\n",
    "    mRl[0, :, col] = bnd[0:nlon, col].sum() / nlon\n",
    "    mVp[0, :, col] = v_p[0:nlon, col].sum() / nlon\n",
    "    mVs[0, :, col] = v_s[0:nlon, col].sum() / nlon\n",
    "    mRh[0, :, col] = rho[0:nlon, col].sum() / nlon\n",
    "    # south pole\n",
    "    mRl[-1, :, col] = bnd[nrow - nlon:nrow, col].sum() / nlon\n",
    "    mVp[-1, :, col] = v_p[nrow - nlon:nrow, col].sum() / nlon\n",
    "    mVs[-1, :, col] = v_s[nrow - nlon:nrow, col].sum() / nlon\n",
    "    mRh[-1, :, col] = rho[nrow - nlon:nrow, col].sum() / nlon\n",
    "for i in range(1, nlat):\n",
    "    mRl[i, :, :] = (bnd[i * nlon:i * nlon + nlon, :] + bnd[(i - 1) * nlon:i * nlon, :]) / 2\n",
    "    mVp[i, :, :] = (v_p[i * nlon:i * nlon + nlon, :] + v_p[(i - 1) * nlon:i * nlon, :]) / 2\n",
    "    mVs[i, :, :] = (v_s[i * nlon:i * nlon + nlon, :] + v_s[(i - 1) * nlon:i * nlon, :]) / 2\n",
    "    mRh[i, :, :] = (rho[i * nlon:i * nlon + nlon, :] + rho[(i - 1) * nlon:i * nlon, :]) / 2\n",
    "\n",
    "# revert south to north\n",
    "mRl = np.flip(mRl, axis=0)\n",
    "mVp = np.flip(mVp, axis=0)\n",
    "mVs = np.flip(mVs, axis=0)\n",
    "mRh = np.flip(mRh, axis=0)\n",
    "\n",
    "# extend longitude from [-179.5, 179.5] to [-180., 180.]\n",
    "def extend_lat(x):\n",
    "    x_ext = np.zeros((nlat + 1, nlon + 2, nlayer))\n",
    "    x_ext[:, 0, :] = (x[:, 0, :] + x[:, -1, :]) / 2\n",
    "    x_ext[:, nlon + 1, :] = x_ext[:, 0, :]\n",
    "    x_ext[:, 1:nlon + 1, :] = x[:, :, :]\n",
    "    return x_ext\n",
    "mRl = extend_lat(mRl)\n",
    "mVp = extend_lat(mVp)\n",
    "mVs = extend_lat(mVs)\n",
    "mRh = extend_lat(mRh)\n",
    "\n",
    "# convert to SI\n",
    "mRl *= 1e3\n",
    "mVp *= 1e3\n",
    "mVs *= 1e3\n",
    "mRh *= 1e3\n",
    "\n",
    "# layers\n",
    "if INCLUDE_ICE:\n",
    "    INCLUDE_SEDIMENT = True\n",
    "if INCLUDE_ICE:\n",
    "    colSurf = 1\n",
    "elif INCLUDE_SEDIMENT:\n",
    "    colSurf = 2\n",
    "else:\n",
    "    colSurf = 5\n",
    "colMoho = 8\n",
    "\n",
    "# linear mapping to sphere\n",
    "rdiff = (RADIUS_SURFACE - RADIUS_MOHO) / (mRl[:, :, colSurf] - mRl[:, :, colMoho])\n",
    "elev = mRl.copy()\n",
    "for i in range(nlayer):\n",
    "    mRl[:, :, i] = rdiff * (elev[:, :, i] - elev[:, :, colMoho]) + RADIUS_MOHO"
   ]
  },
  {
   "cell_type": "code",
   "execution_count": null,
   "metadata": {},
   "outputs": [],
   "source": [
    "# structured grid\n",
    "grid_lat = np.arange(-90., 90.01, 1)\n",
    "grid_lon = np.array([-180.] + list(np.arange(-179.5, 179.501, 1)) + [180.])\n",
    "grid_r = np.linspace(RADIUS_MOHO, RADIUS_SURFACE, N_ELEM_LAYERS * 10)\n",
    "data_vp = np.zeros((len(grid_lat), len(grid_lon), len(grid_r)))\n",
    "data_vs = np.zeros((len(grid_lat), len(grid_lon), len(grid_r)))\n",
    "data_rh = np.zeros((len(grid_lat), len(grid_lon), len(grid_r)))\n",
    "\n",
    "def interp_2pnts(x, y, l, target):\n",
    "    return (y[l] - y[l - 1]) / (x[l] - x[l - 1]) * (target - x[l - 1]) + y[l - 1]\n",
    "    \n",
    "for ilat in range(len(grid_lat)):\n",
    "    for ilon in range(len(grid_lon)):\n",
    "        rl_profile = mRl[ilat, ilon, :][colSurf:][::-1]\n",
    "        vp_profile = mVp[ilat, ilon, :][colSurf:][::-1]\n",
    "        vs_profile = mVs[ilat, ilon, :][colSurf:][::-1]\n",
    "        rh_profile = mRh[ilat, ilon, :][colSurf:][::-1]\n",
    "        # get rid of zero-thickness layers\n",
    "        loc_non_zero = np.where(rh_profile > .1)[0]\n",
    "        rl_profile = rl_profile[loc_non_zero]\n",
    "        vp_profile = vp_profile[loc_non_zero]\n",
    "        vs_profile = vs_profile[loc_non_zero]\n",
    "        rh_profile = rh_profile[loc_non_zero]\n",
    "        loc = np.searchsorted(rl_profile, grid_r, 'right')\n",
    "        loc = np.minimum(loc, len(rl_profile) - 1)\n",
    "        data_vp[ilat, ilon, :] = vp_profile[loc]\n",
    "        data_vs[ilat, ilon, :] = vs_profile[loc]\n",
    "        data_rh[ilat, ilon, :] = rh_profile[loc]"
   ]
  },
  {
   "cell_type": "code",
   "execution_count": null,
   "metadata": {},
   "outputs": [],
   "source": [
    "# check\n",
    "print('vp range:', data_vp.min(), data_vp.max())\n",
    "print('vs range:', data_vs.min(), data_vs.max())\n",
    "print('rho range:', data_rh.min(), data_rh.max())\n",
    "\n",
    "fig, ax = plt.subplots(1, 3, dpi=200)\n",
    "ax[0].imshow(data_vp[:, :, -1], origin='lower')\n",
    "ax[0].set_title('vp on surface', fontsize=6)\n",
    "ax[1].imshow(data_vs[:, :, -1], origin='lower')\n",
    "ax[1].set_title('vs on surface', fontsize=6)\n",
    "ax[2].imshow(data_rh[:, :, -1], origin='lower')\n",
    "ax[2].set_title('rho on surface', fontsize=6)\n",
    "for x in ax:\n",
    "    x.axis('off')\n",
    "plt.show()\n",
    "\n",
    "fig, ax = plt.subplots(1, 3, dpi=200)\n",
    "ax[0].imshow(data_vp[:, :, 0], origin='lower')\n",
    "ax[0].set_title('vp on moho', fontsize=6)\n",
    "ax[1].imshow(data_vs[:, :, 0], origin='lower')\n",
    "ax[1].set_title('vs on moho', fontsize=6)\n",
    "ax[2].imshow(data_rh[:, :, 0], origin='lower')\n",
    "ax[2].set_title('rho on moho', fontsize=6)\n",
    "for x in ax:\n",
    "    x.axis('off')\n",
    "plt.show()"
   ]
  },
  {
   "cell_type": "code",
   "execution_count": null,
   "metadata": {},
   "outputs": [],
   "source": [
    "# write to file\n",
    "nc = Dataset('input_with_3d_crust/crust1_volumetric.nc', 'w')\n",
    "nc.createDimension('nlat', size=len(grid_lat))\n",
    "nc.createDimension('nlon', size=len(grid_lon))\n",
    "nc.createDimension('nr', size=len(grid_r))\n",
    "nc.createVariable('latitude', float, dimensions=('nlat'))\n",
    "nc['latitude'][:] = grid_lat\n",
    "nc.createVariable('longitude', float, dimensions=('nlon'))\n",
    "nc['longitude'][:] = grid_lon\n",
    "nc.createVariable('radius', float, dimensions=('nr'))\n",
    "nc['radius'][:] = grid_r\n",
    "nc.createVariable('vp', float, dimensions=('nlat', 'nlon', 'nr'))\n",
    "nc['vp'][:, :, :] = data_vp\n",
    "nc.createVariable('vs', float, dimensions=('nlat', 'nlon', 'nr'))\n",
    "nc['vs'][:, :, :] = data_vs\n",
    "nc.createVariable('rho', float, dimensions=('nlat', 'nlon', 'nr'))\n",
    "nc['rho'][:, :, :] = data_rh\n",
    "nc.close()"
   ]
  },
  {
   "cell_type": "markdown",
   "metadata": {},
   "source": [
    "## The geometric models"
   ]
  },
  {
   "cell_type": "code",
   "execution_count": null,
   "metadata": {},
   "outputs": [],
   "source": [
    "# get undulation\n",
    "undulation_surf = elev[:, :, colSurf]\n",
    "undulation_moho = elev[:, :, colMoho] - RADIUS_MOHO + RADIUS_SURFACE\n",
    "\n",
    "# smoothening\n",
    "# if instability occurs, use a larger sigma smooth undulations more \n",
    "sigma = 2\n",
    "undulation_surf_smooth = gaussian(undulation_surf, sigma=sigma)\n",
    "undulation_moho_smooth = gaussian(undulation_moho, sigma=sigma)\n",
    "\n",
    "# plot\n",
    "fig, ax = plt.subplots(2, 2, dpi=200)\n",
    "ax[0, 0].imshow(undulation_surf, origin='lower')\n",
    "ax[0, 0].set_title('surface before smooth', fontsize=6)\n",
    "ax[0, 1].imshow(undulation_moho, origin='lower')\n",
    "ax[0, 1].set_title('moho before smooth', fontsize=6)\n",
    "ax[1, 0].imshow(undulation_surf_smooth, origin='lower')\n",
    "ax[1, 0].set_title('surface after smooth', fontsize=6)\n",
    "ax[1, 1].imshow(undulation_moho_smooth, origin='lower')\n",
    "ax[1, 1].set_title('moho after smooth', fontsize=6)\n",
    "for xx in ax:\n",
    "    for x in xx:\n",
    "        x.axis('off')\n",
    "plt.show()"
   ]
  },
  {
   "cell_type": "code",
   "execution_count": null,
   "metadata": {},
   "outputs": [],
   "source": [
    "# write to file\n",
    "nc = Dataset('input_with_3d_crust/crust1_geometric.nc', 'w')\n",
    "nc.createDimension('nlat', size=len(grid_lat))\n",
    "nc.createDimension('nlon', size=len(grid_lon))\n",
    "nc.createVariable('latitude', float, dimensions=('nlat'))\n",
    "nc['latitude'][:] = grid_lat\n",
    "nc.createVariable('longitude', float, dimensions=('nlon'))\n",
    "nc['longitude'][:] = grid_lon\n",
    "nc.createVariable('undulation_surf', float, dimensions=('nlat', 'nlon'))\n",
    "nc['undulation_surf'][:, :] = undulation_surf_smooth\n",
    "nc.createVariable('undulation_moho', float, dimensions=('nlat', 'nlon'))\n",
    "nc['undulation_moho'][:, :] = undulation_moho_smooth\n",
    "nc.close()"
   ]
  },
  {
   "cell_type": "markdown",
   "metadata": {},
   "source": [
    "## The ocean-load models"
   ]
  },
  {
   "cell_type": "code",
   "execution_count": null,
   "metadata": {},
   "outputs": [],
   "source": [
    "# get ocean depth\n",
    "ocean_depth = elev[:, :, 0] - elev[:, :, 1]\n",
    "\n",
    "# plot\n",
    "plt.figure(dpi=100)\n",
    "plt.imshow(ocean_depth, origin='lower')\n",
    "plt.axis('off')\n",
    "plt.show()"
   ]
  },
  {
   "cell_type": "code",
   "execution_count": null,
   "metadata": {},
   "outputs": [],
   "source": [
    "# write to file\n",
    "nc = Dataset('input_with_3d_crust/crust1_oceanload.nc', 'w')\n",
    "nc.createDimension('nlat', size=len(grid_lat))\n",
    "nc.createDimension('nlon', size=len(grid_lon))\n",
    "nc.createVariable('latitude', float, dimensions=('nlat'))\n",
    "nc['latitude'][:] = grid_lat\n",
    "nc.createVariable('longitude', float, dimensions=('nlon'))\n",
    "nc['longitude'][:] = grid_lon\n",
    "nc.createVariable('ocean_depth', float, dimensions=('nlat', 'nlon'))\n",
    "nc['ocean_depth'][:, :] = ocean_depth\n",
    "nc.close()"
   ]
  },
  {
   "cell_type": "markdown",
   "metadata": {},
   "source": [
    "---"
   ]
  }
 ],
 "metadata": {
  "kernelspec": {
   "display_name": "Python 3",
   "language": "python",
   "name": "python3"
  },
  "language_info": {
   "codemirror_mode": {
    "name": "ipython",
    "version": 3
   },
   "file_extension": ".py",
   "mimetype": "text/x-python",
   "name": "python",
   "nbconvert_exporter": "python",
   "pygments_lexer": "ipython3",
   "version": "3.8.8"
  }
 },
 "nbformat": 4,
 "nbformat_minor": 4
}
