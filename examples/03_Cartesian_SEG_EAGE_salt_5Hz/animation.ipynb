{
 "cells": [
  {
   "cell_type": "code",
   "execution_count": 1,
   "metadata": {},
   "outputs": [],
   "source": [
    "import os\n",
    "import pyvtk\n",
    "import numpy as np\n",
    "import xarray as xr"
   ]
  },
  {
   "cell_type": "code",
   "execution_count": 2,
   "metadata": {},
   "outputs": [],
   "source": [
    "# data dir\n",
    "datadir = 'output/stations/inplane_stations'\n",
    "\n",
    "# open \n",
    "nc = xr.open_mfdataset(datadir + '/axisem3d_synthetics.nc.rank*', \n",
    "                       concat_dim='dim_station', combine='nested', \n",
    "                       data_vars=['data_wave', 'station_order'])\n",
    "\n",
    "# read time\n",
    "time_points = nc.data_vars['time_points'].values\n",
    "\n",
    "# read wave\n",
    "data_wave = nc.data_vars['data_wave'].values\n",
    "\n",
    "# read station order\n",
    "station_order = nc.data_vars['station_order'].values.astype(str)\n",
    "\n",
    "# close\n",
    "nc.close()"
   ]
  },
  {
   "cell_type": "code",
   "execution_count": 3,
   "metadata": {},
   "outputs": [],
   "source": [
    "# inverse map of station_order\n",
    "dict_key_to_loc = {}\n",
    "for loc, key in enumerate(station_order):\n",
    "    dict_key_to_loc[key] = loc\n",
    "    \n",
    "# dimensions\n",
    "nstation = data_wave.shape[0]\n",
    "ntime = data_wave.shape[2]"
   ]
  },
  {
   "cell_type": "code",
   "execution_count": 4,
   "metadata": {},
   "outputs": [],
   "source": [
    "###### vtk grid ######\n",
    "\n",
    "# z coord on surface\n",
    "surface_z = 6370e3\n",
    "\n",
    "# x coord of stations\n",
    "x_all = np.arange(0, 5000, 50)\n",
    "\n",
    "# depth of station\n",
    "depth_all = np.arange(0, 3801, 50)\n",
    "\n",
    "# grid xyz and connectivity\n",
    "xyz = np.ndarray((nstation, 3))\n",
    "connect = []\n",
    "\n",
    "for ix, x in enumerate(x_all):\n",
    "    for idep, dep in enumerate(depth_all):\n",
    "        # coords\n",
    "        loc = dict_key_to_loc['INPLANE.st_x%d_d%d' % (x, dep)]\n",
    "        xyz[loc, :] = [x, 0, surface_z - dep]\n",
    "        # connectivity\n",
    "        if ix != len(x_all) - 1 and idep != len(depth_all) - 1:\n",
    "            connect.append([loc, \n",
    "                            dict_key_to_loc['INPLANE.st_x%d_d%d' % (x + 50, dep)], \n",
    "                            dict_key_to_loc['INPLANE.st_x%d_d%d' % (x + 50, dep + 50)], \n",
    "                            dict_key_to_loc['INPLANE.st_x%d_d%d' % (x, dep + 50)]])\n",
    "connect = np.array(connect)\n",
    "\n",
    "# points\n",
    "vtk_points = pyvtk.UnstructuredGrid(list(zip(xyz[:,0], xyz[:,1], xyz[:,2])), quad=connect)\n",
    "\n",
    "\n",
    "############ vtk ############\n",
    "os.makedirs('%s/vtk' % datadir, exist_ok=True)\n",
    "\n",
    "for istep in np.arange(ntime):\n",
    "    # vtk\n",
    "    vtk = pyvtk.VtkData(vtk_points, \n",
    "                        pyvtk.PointData(pyvtk.Scalars(data_wave[:, 0, istep], name='U_NORM')))\n",
    "    vtk.tofile('%s/vtk/U_NORM.%d.vtk' % (datadir, istep), 'binary')"
   ]
  }
 ],
 "metadata": {
  "kernelspec": {
   "display_name": "Python 3",
   "language": "python",
   "name": "python3"
  },
  "language_info": {
   "codemirror_mode": {
    "name": "ipython",
    "version": 3
   },
   "file_extension": ".py",
   "mimetype": "text/x-python",
   "name": "python",
   "nbconvert_exporter": "python",
   "pygments_lexer": "ipython3",
   "version": "3.6.7"
  }
 },
 "nbformat": 4,
 "nbformat_minor": 2
}
