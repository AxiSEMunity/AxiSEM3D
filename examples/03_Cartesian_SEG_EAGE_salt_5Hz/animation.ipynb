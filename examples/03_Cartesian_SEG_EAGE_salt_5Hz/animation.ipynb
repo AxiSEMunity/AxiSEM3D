{
 "cells": [
  {
   "cell_type": "code",
   "execution_count": null,
   "metadata": {},
   "outputs": [],
   "source": [
    "import os\n",
    "import pyvtk\n",
    "import numpy as np\n",
    "from netCDF4 import Dataset"
   ]
  },
  {
   "cell_type": "code",
   "execution_count": null,
   "metadata": {},
   "outputs": [],
   "source": [
    "# data dir\n",
    "datadir = 'output/stations/inplane_stations'\n",
    "\n",
    "# read rank-station info\n",
    "rank_station_info = np.loadtxt('%s/rank_station.info' % datadir, dtype=str, skiprows=1)\n",
    "rank_station_dict = {}\n",
    "station_key_dict = {}\n",
    "\n",
    "nstation = len(rank_station_info)\n",
    "for index, item in enumerate(rank_station_info):\n",
    "    rank = int(item[0])\n",
    "    station_key = item[1]\n",
    "    if rank not in rank_station_dict.keys():\n",
    "        rank_station_dict[rank] = []\n",
    "    rank_station_dict[rank].append(station_key)\n",
    "    station_key_dict[station_key] = index"
   ]
  },
  {
   "cell_type": "code",
   "execution_count": null,
   "metadata": {},
   "outputs": [],
   "source": [
    "# open\n",
    "nc = []\n",
    "for rank in rank_station_dict.keys():\n",
    "    nc.append(Dataset('%s/axisem3d_synthetics.nc.rank%d' % (datadir, rank), 'r'))\n",
    "\n",
    "# time\n",
    "time = nc[0].variables['time_points'][:]\n",
    "ntime = len(time)"
   ]
  },
  {
   "cell_type": "code",
   "execution_count": null,
   "metadata": {},
   "outputs": [],
   "source": [
    "# data\n",
    "data = np.ndarray((ntime, nstation))\n",
    "\n",
    "pos = 0\n",
    "for irank, rank in enumerate(rank_station_dict.keys()):\n",
    "    nstation_on_rank = len(rank_station_dict[rank])\n",
    "    data[:, pos:(pos+nstation_on_rank)] = nc[rank].variables['data'][:, 0, :]\n",
    "    pos += nstation_on_rank"
   ]
  },
  {
   "cell_type": "code",
   "execution_count": null,
   "metadata": {},
   "outputs": [],
   "source": [
    "###### vtk grid ######\n",
    "\n",
    "# surface z\n",
    "surface_z = 6370e3\n",
    "\n",
    "# x of stations\n",
    "x_all = np.arange(0, 5000, 50)\n",
    "\n",
    "# depth of station\n",
    "depth_all = np.arange(0, 3801, 50)\n",
    "\n",
    "# grid xyz and connectivity\n",
    "xyz = np.ndarray((nstation, 3))\n",
    "connect = []\n",
    "\n",
    "for ix, x in enumerate(x_all):\n",
    "    for idep, dep in enumerate(depth_all):\n",
    "        st_key = 'INPLANE.st_x%d_d%d' % (x, dep)\n",
    "        st_index = station_key_dict[st_key]\n",
    "        xyz[st_index, :] = [x, 0, surface_z - dep]\n",
    "        if ix != len(x_all) - 1 and idep != len(depth_all) - 1:\n",
    "            connect.append([st_index, \n",
    "                            station_key_dict['INPLANE.st_x%d_d%d' % (x + 50, dep)], \n",
    "                            station_key_dict['INPLANE.st_x%d_d%d' % (x + 50, dep + 50)], \n",
    "                            station_key_dict['INPLANE.st_x%d_d%d' % (x, dep + 50)]])\n",
    "connect = np.array(connect)\n",
    "\n",
    "# points\n",
    "vtk_points = pyvtk.UnstructuredGrid(list(zip(xyz[:,0], xyz[:,1], xyz[:,2])), quad=connect)\n",
    "    \n",
    "############ vtk ############\n",
    "os.makedirs('%s/vtk' % datadir, exist_ok=True)\n",
    "\n",
    "for istep in np.arange(ntime):\n",
    "    # vtk\n",
    "    vtk = pyvtk.VtkData(vtk_points, \n",
    "                        pyvtk.PointData(pyvtk.Scalars(data[istep,:], name='U_NORM')), \n",
    "                        'disp_norm')\n",
    "    vtk.tofile('%s/vtk/U_NORM.%d.vtk' % (datadir, istep), 'binary')\n",
    "\n",
    "    "
   ]
  },
  {
   "cell_type": "code",
   "execution_count": null,
   "metadata": {},
   "outputs": [],
   "source": []
  },
  {
   "cell_type": "code",
   "execution_count": null,
   "metadata": {},
   "outputs": [],
   "source": []
  }
 ],
 "metadata": {
  "kernelspec": {
   "display_name": "Python 3",
   "language": "python",
   "name": "python3"
  },
  "language_info": {
   "codemirror_mode": {
    "name": "ipython",
    "version": 3
   },
   "file_extension": ".py",
   "mimetype": "text/x-python",
   "name": "python",
   "nbconvert_exporter": "python",
   "pygments_lexer": "ipython3",
   "version": "3.6.7"
  }
 },
 "nbformat": 4,
 "nbformat_minor": 2
}
