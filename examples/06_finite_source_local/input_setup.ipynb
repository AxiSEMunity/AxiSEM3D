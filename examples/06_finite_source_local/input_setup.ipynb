{
 "cells": [
  {
   "cell_type": "code",
   "execution_count": null,
   "id": "0ec258ca",
   "metadata": {},
   "outputs": [],
   "source": [
    "import numpy as np"
   ]
  },
  {
   "cell_type": "markdown",
   "id": "56573759",
   "metadata": {},
   "source": [
    "### Setup source inputs"
   ]
  },
  {
   "cell_type": "code",
   "execution_count": null,
   "id": "7ab20631",
   "metadata": {},
   "outputs": [],
   "source": [
    "# create function to format individual sources (finite rupture = collection of point sources approximation)\n",
    "\n",
    "def format_input_point(i, input_data):\n",
    "    input_string =     f\"\"\"\n",
    "    - point{i}:\n",
    "        location:\n",
    "            latitude_longitude: [{input_data[\"lat\"]}, {input_data[\"lon\"]}]\n",
    "            depth: {input_data[\"depth\"]}\n",
    "            ellipticity: false\n",
    "            depth_below_solid_surface: true\n",
    "            undulated_geometry: true\n",
    "        mechanism:\n",
    "            type: MOMENT_TENSOR\n",
    "            data: [{input_data[\"MT\"][0]:.3e}, {input_data[\"MT\"][1]:.3e}, {input_data[\"MT\"][2]:.3e}, {input_data[\"MT\"][3]:.3e}, {input_data[\"MT\"][4]:.3e}, {input_data[\"MT\"][5]:.3e}]\n",
    "            unit: {input_data[\"MT_unit\"]:.3e}\n",
    "        source_time_function:\n",
    "            class_name: GaussianSTF\n",
    "            half_duration: {input_data[\"hd\"]:.3e}\n",
    "            decay_factor: 1.628\n",
    "            time_shift: {input_data[\"ts\"]:.3e}\n",
    "            use_derivative_integral: GAUSSIAN\"\"\"\n",
    "    return input_string\n"
   ]
  },
  {
   "cell_type": "code",
   "execution_count": null,
   "id": "611ed0dc",
   "metadata": {},
   "outputs": [],
   "source": [
    "# list of sources in the finite rupture; just an example shown here below but the true inparam.source.yaml shows an actual finite rupture \n",
    "\n",
    "input_data_list = [{\"lat\":1,\"lon\":1, \"depth\":1, \"MT\":np.random.normal(0,1,6), \"hd\":2.0,\"ts\":-1, \"MT_unit\":1.0}, \n",
    "                   {\"lat\":1,\"lon\":1, \"depth\":1, \"MT\":np.random.normal(0,1,6), \"hd\":2.0,\"ts\":-1, \"MT_unit\":1.0}]"
   ]
  },
  {
   "cell_type": "code",
   "execution_count": null,
   "id": "7b7e4703",
   "metadata": {},
   "outputs": [],
   "source": [
    "# contents of the file must be manually copied into inparam.source.yaml under list_of_sources:\n",
    "\n",
    "with open(\"input/example_input_source_list.txt\", 'w') as file:\n",
    "    for i, source in enumerate(input_data_list):\n",
    "        file.write(format_input_point(i+1, source))"
   ]
  },
  {
   "cell_type": "markdown",
   "id": "7f321240",
   "metadata": {},
   "source": [
    "### Setup Output Stations"
   ]
  },
  {
   "cell_type": "code",
   "execution_count": null,
   "id": "6f3d1fb2",
   "metadata": {},
   "outputs": [],
   "source": [
    "# Grid of stations spanning radius range\n",
    "\n",
    "xx = np.linspace(-55000, 55000, 111)\n",
    "yy = np.linspace(-55000, 55000, 111)\n",
    "XX, YY = np.meshgrid(xx, yy)\n",
    "RR = np.sqrt(XX**2+YY**2)\n",
    "TH = np.arctan2(YY,XX) #Azimuth from north\n",
    "# Make sure they are actually inside the radius\n",
    "\n",
    "XX = XX[RR<=55000]\n",
    "YY = YY[RR<=55000]\n",
    "TH = TH[RR<=55000]\n",
    "RR = RR[RR<=55000]\n",
    "len(XX)"
   ]
  },
  {
   "cell_type": "code",
   "execution_count": null,
   "id": "ebf2a978",
   "metadata": {},
   "outputs": [],
   "source": [
    "# for this case, AxiSEM3D lets you put in a text file with all of the stations specified, so no copying is necessary \n",
    "\n",
    "with open(\"input/STATIONS_OUTPUT.txt\", 'w') as file:\n",
    "    file.write(\"\"\"# ------------------------------\\n# name network x y useless depth\\n# ------------------------------\\n\"\"\")\n",
    "    for i, (x, y) in enumerate(zip(XX,YY)): \n",
    "        file.write(f\"{i:04d} FAKE {x:.2f} {y:.2f} 0.0 0.0\\n\") # i:04d - the 4 = number of digits for highest station number, adjust to suit\n",
    "\n"
   ]
  }
 ],
 "metadata": {
  "kernelspec": {
   "display_name": "Python 3 (ipykernel)",
   "language": "python",
   "name": "python3"
  },
  "language_info": {
   "codemirror_mode": {
    "name": "ipython",
    "version": 3
   },
   "file_extension": ".py",
   "mimetype": "text/x-python",
   "name": "python",
   "nbconvert_exporter": "python",
   "pygments_lexer": "ipython3",
   "version": "3.8.13"
  }
 },
 "nbformat": 4,
 "nbformat_minor": 5
}
