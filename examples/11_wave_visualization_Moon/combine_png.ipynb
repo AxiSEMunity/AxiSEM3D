{
 "cells": [
  {
   "cell_type": "code",
   "execution_count": 1,
   "metadata": {},
   "outputs": [],
   "source": [
    "# Build the png images using this code - \n",
    "# ./stations_processing_png.py\n",
    "\n",
    "# Then generate the combined video here"
   ]
  },
  {
   "cell_type": "code",
   "execution_count": 2,
   "metadata": {},
   "outputs": [],
   "source": [
    "from moviepy.editor import ImageSequenceClip\n",
    "import os"
   ]
  },
  {
   "cell_type": "code",
   "execution_count": 3,
   "metadata": {},
   "outputs": [],
   "source": [
    "# copy the details about the run in here \n",
    "    \n",
    "# specify a run name\n",
    "run = '158_ISSI_atten_slice_10'\n",
    "run_title = 'Lunar Model M1 with heterogeneity '\n",
    "# model for TauP\n",
    "model_taup='homogeneous_Moon_taup' # it has no boundaries\n",
    "\n",
    "# top level dir \n",
    "top_dir = '/Users/mfouchet/Documents/AxiSEM3D/examples/11_wave_visualization_Moon' # to adapt with user's directory\n",
    "folder='simu3D'\n"
   ]
  },
  {
   "cell_type": "markdown",
   "metadata": {},
   "source": [
    "## Generate Video Stations"
   ]
  },
  {
   "cell_type": "code",
   "execution_count": 4,
   "metadata": {},
   "outputs": [
    {
     "name": "stdout",
     "output_type": "stream",
     "text": [
      "Reading images in: \n",
      " /Users/mfouchet/Documents/AxiSEM3D/examples/11_wave_visualization_Moon/158_ISSI_atten_slice_10/simu3D/output/stations/stations_array/result\n",
      "Images read\n",
      "Moviepy - Building video /Users/mfouchet/Documents/AxiSEM3D/examples/11_wave_visualization_Moon/158_ISSI_atten_slice_10/simu3D/output/stations/stations_array/video/158_ISSI_atten_slice_10_Z_station_simulation.mp4.\n",
      "Moviepy - Writing video /Users/mfouchet/Documents/AxiSEM3D/examples/11_wave_visualization_Moon/158_ISSI_atten_slice_10/simu3D/output/stations/stations_array/video/158_ISSI_atten_slice_10_Z_station_simulation.mp4\n",
      "\n"
     ]
    },
    {
     "name": "stderr",
     "output_type": "stream",
     "text": [
      "                                                                                \r"
     ]
    },
    {
     "name": "stdout",
     "output_type": "stream",
     "text": [
      "Moviepy - Done !\n",
      "Moviepy - video ready /Users/mfouchet/Documents/AxiSEM3D/examples/11_wave_visualization_Moon/158_ISSI_atten_slice_10/simu3D/output/stations/stations_array/video/158_ISSI_atten_slice_10_Z_station_simulation.mp4\n"
     ]
    }
   ],
   "source": [
    "# element name\n",
    "element_name='stations_array'\n",
    "\n",
    "## Video Generating function\n",
    "def generate_video(top_dir=None,\n",
    "        run=None,element_name=None,folder=None):\n",
    "    data_dir = os.path.join(top_dir,run,folder,'output','stations',element_name)\n",
    "    image_folder = os.path.join(data_dir,'result')\n",
    "    video_folder = os.path.join(data_dir,'video')\n",
    "    print('Reading images in: \\n',image_folder)\n",
    "\n",
    "    for comp in ['R', 'T', 'Z']:\n",
    "        images = [img for img in os.listdir(image_folder)\n",
    "                  if img.endswith(\".jpg\") or\n",
    "                     img.endswith(\".jpeg\") or\n",
    "                     img.endswith(\".png\") \n",
    "                  and comp in img\n",
    "                 ]\n",
    "        \n",
    "        if len(images) == 0:\n",
    "            continue\n",
    "        \n",
    "        filename = '{}_{}_{}'.format(run,comp,'station_simulation.mp4')   \n",
    "        video_name = os.path.join(data_dir,'video',filename)\n",
    "     \n",
    "        # Array images should only consider the image files ignoring others if any\n",
    "        images.sort()\n",
    "\n",
    "        images_path = []\n",
    "        for image in images: \n",
    "            images_path.append(os.path.join(image_folder,image))\n",
    "\n",
    "        print('Images read')\n",
    "        \n",
    "        # Define the frame rate (frames per second)\n",
    "        fps = 24\n",
    "        \n",
    "        # create images folder\n",
    "        os.makedirs(video_folder, exist_ok=True)\n",
    "\n",
    "        # Create a video clip from the image sequence\n",
    "        clip = ImageSequenceClip(images_path, fps=fps)\n",
    "        \n",
    "        # Write the result to a file\n",
    "        output_path = os.path.join(video_folder,filename)\n",
    "        clip.write_videofile(output_path, codec=\"libx264\")\n",
    "  \n",
    "# Calling the generate_video function\n",
    "generate_video(top_dir=top_dir,\n",
    "        run=run,element_name=element_name,folder=folder)"
   ]
  },
  {
   "cell_type": "markdown",
   "metadata": {},
   "source": [
    "## Generate Video Element"
   ]
  },
  {
   "cell_type": "code",
   "execution_count": 5,
   "metadata": {},
   "outputs": [
    {
     "name": "stdout",
     "output_type": "stream",
     "text": [
      "Reading images in: \n",
      " /Users/mfouchet/Documents/Simulations/157w_ISSI_atten_linear50_10/simu3D/output/elements/slice_4_1/images\n",
      "Images read\n",
      "Moviepy - Building video /Users/mfouchet/Documents/Simulations/157w_ISSI_atten_linear50_10/simu3D/output/elements/slice_4_1/video/157w_ISSI_atten_linear50_10_Z_slice_simulation.mp4.\n",
      "Moviepy - Writing video /Users/mfouchet/Documents/Simulations/157w_ISSI_atten_linear50_10/simu3D/output/elements/slice_4_1/video/157w_ISSI_atten_linear50_10_Z_slice_simulation.mp4\n",
      "\n"
     ]
    },
    {
     "name": "stderr",
     "output_type": "stream",
     "text": [
      "                                                                                \r"
     ]
    },
    {
     "name": "stdout",
     "output_type": "stream",
     "text": [
      "Moviepy - Done !\n",
      "Moviepy - video ready /Users/mfouchet/Documents/Simulations/157w_ISSI_atten_linear50_10/simu3D/output/elements/slice_4_1/video/157w_ISSI_atten_linear50_10_Z_slice_simulation.mp4\n"
     ]
    }
   ],
   "source": [
    "# element name\n",
    "# element_name='orthogonal_azimuthal_slices_10_all'\n",
    "element_name='slice_4_1'\n",
    "\n",
    "## Video Generating function\n",
    "def generate_video(top_dir=None,\n",
    "        run=None,element_name=None,folder=None):\n",
    "    data_dir = os.path.join(top_dir,run,folder,'output','elements',element_name)\n",
    "    image_folder = os.path.join(data_dir,'images')\n",
    "    video_folder = os.path.join(data_dir,'video')\n",
    "    print('Reading images in: \\n',image_folder)\n",
    "\n",
    "    for comp in ['R', 'T', 'Z']:\n",
    "        images = [img for img in os.listdir(image_folder)\n",
    "                  if img.endswith(\".jpg\") or\n",
    "                     img.endswith(\".jpeg\") or\n",
    "                     img.endswith(\".png\") \n",
    "                  and comp in img\n",
    "                 ]\n",
    "        \n",
    "        if len(images) == 0:\n",
    "            continue\n",
    "        \n",
    "        filename = '{}_{}_{}'.format(run,comp,'slice_simulation.mp4')   \n",
    "        video_name = os.path.join(data_dir,'video',filename)\n",
    "     \n",
    "        # Array images should only consider the image files ignoring others if any\n",
    "        images.sort()\n",
    "\n",
    "        images_path = []\n",
    "        for image in images: \n",
    "            images_path.append(os.path.join(image_folder,image))\n",
    "\n",
    "        print('Images read')\n",
    "        \n",
    "        # Define the frame rate (frames per second)\n",
    "        fps = 32\n",
    "        \n",
    "        # create images folder\n",
    "        os.makedirs(video_folder, exist_ok=True)\n",
    "\n",
    "        # Create a video clip from the image sequence\n",
    "        clip = ImageSequenceClip(images_path, fps=fps)\n",
    "        \n",
    "        # Write the result to a file\n",
    "        output_path = os.path.join(video_folder,filename)\n",
    "        clip.write_videofile(output_path, codec=\"libx264\")\n",
    "  \n",
    "# Calling the generate_video function\n",
    "generate_video(top_dir=top_dir,\n",
    "        run=run,element_name=element_name,folder=folder)"
   ]
  },
  {
   "cell_type": "code",
   "execution_count": null,
   "metadata": {},
   "outputs": [],
   "source": []
  }
 ],
 "metadata": {
  "kernelspec": {
   "display_name": "Python 3 (ipykernel)",
   "language": "python",
   "name": "python3"
  },
  "language_info": {
   "codemirror_mode": {
    "name": "ipython",
    "version": 3
   },
   "file_extension": ".py",
   "mimetype": "text/x-python",
   "name": "python",
   "nbconvert_exporter": "python",
   "pygments_lexer": "ipython3",
   "version": "3.12.2"
  }
 },
 "nbformat": 4,
 "nbformat_minor": 4
}
